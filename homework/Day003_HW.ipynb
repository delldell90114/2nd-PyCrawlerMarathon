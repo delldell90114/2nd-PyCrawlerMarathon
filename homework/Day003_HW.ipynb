{
 "cells": [
  {
   "cell_type": "markdown",
   "metadata": {},
   "source": [
    "#Python 下載XML檔案與解析\n",
    "###了解 xml 檔案格式與內容\n",
    "###能夠利用套件存取 xml 格式的檔案\n",
    "##作業目標\n",
    "###一、比較一下範例檔案中的「File I/O」與「xmltodict」讀出來的內容有什麼差異"
   ]
  },
  {
   "cell_type": "code",
   "execution_count": 79,
   "metadata": {},
   "outputs": [],
   "source": [
    "import urllib.request as req\n",
    "import zipfile as zf\n",
    "import xmltodict as xtd\n",
    "import os, sys\n",
    "\n",
    "g_destDirHw = \"./Data/example_003_HW/\"\n",
    "g_destZip = g_destDirHw + \"example_003_HW.zip\"\n",
    "g_testXml = g_destDirHw + \"64_72hr_CH.xml\"\n",
    "g_res = \"http://opendata.cwb.gov.tw/govdownload?dataid=F-D0047-093&authorizationkey=rdec-key-123-45678-011121314\"\n",
    "\n",
    "if not os.path.isdir(g_destDirHw):\n",
    "    os.mkdir(g_destDirHw)\n",
    "    \n",
    "req.urlretrieve(g_res, g_destZip)\n",
    "fp = zf.ZipFile(g_destZip)\n",
    "fp.extractall(g_destDirHw)\n",
    "\n",
    "dirs = os.listdir(g_destDirHw)\n",
    "#for file in dirs:\n",
    "    #print(file)"
   ]
  },
  {
   "cell_type": "code",
   "execution_count": 80,
   "metadata": {},
   "outputs": [
    {
     "name": "stdout",
     "output_type": "stream",
     "text": [
      "1. Read XML by File I/O, type:{0} <class 'str'>\n",
      "2. Read XML by xmltodict, type:{0} <class 'dict'>\n"
     ]
    }
   ],
   "source": [
    "# File I/O\n",
    "with open(g_testXml, \"r\", encoding = \"utf-8\") as fp:\n",
    "    xml = fp.read()\n",
    "    print(\"1. Read XML by File I/O, type:{0}\", type(xml))\n",
    "\n",
    "# xmltodict\n",
    "with open(g_testXml, \"r\", encoding = \"utf-8\") as xmlFp:\n",
    "    doc = dict(xtd.parse(xmlFp.read()))\n",
    "    description = doc[\"cwbopendata\"][\"dataset\"][\"datasetInfo\"][\"datasetDescription\"]\n",
    "    #print(description)\n",
    "    print(\"2. Read XML by xmltodict, type:{0}\", type(doc))"
   ]
  },
  {
   "cell_type": "markdown",
   "metadata": {},
   "source": [
    "###Ans:\n",
    "(1)使用File I/O讀取出來的是\"字串\"(String)\n",
    "(2)使用xmltodic讀取出來的是\"字典\"(Dictionary)"
   ]
  },
  {
   "cell_type": "markdown",
   "metadata": {},
   "source": [
    "##二、根據範例檔案的結果：\n",
    "\n",
    "###請問高雄市有多少地區有溫度資料？\n",
    "###請取出每一個地區所記錄的第一個時間點跟溫度\n",
    "###請取出第一個地區所記錄的每一個時間點跟溫度"
   ]
  },
  {
   "cell_type": "code",
   "execution_count": 81,
   "metadata": {},
   "outputs": [
    {
     "name": "stdout",
     "output_type": "stream",
     "text": [
      "有溫度資料的地區總共有: 38個\n",
      "鹽埕區\n",
      "鼓山區\n",
      "左營區\n",
      "楠梓區\n",
      "三民區\n",
      "新興區\n",
      "前金區\n",
      "苓雅區\n",
      "前鎮區\n",
      "旗津區\n",
      "小港區\n",
      "鳳山區\n",
      "林園區\n",
      "大寮區\n",
      "大樹區\n",
      "大社區\n",
      "仁武區\n",
      "鳥松區\n",
      "岡山區\n",
      "橋頭區\n",
      "燕巢區\n",
      "田寮區\n",
      "阿蓮區\n",
      "路竹區\n",
      "湖內區\n",
      "茄萣區\n",
      "永安區\n",
      "彌陀區\n",
      "梓官區\n",
      "旗山區\n",
      "美濃區\n",
      "六龜區\n",
      "甲仙區\n",
      "杉林區\n",
      "內門區\n",
      "茂林區\n",
      "桃源區\n",
      "那瑪夏區\n"
     ]
    }
   ],
   "source": [
    "#請問高雄市有多少地區有溫度資料？\n",
    "with open(g_testXml, \"r\", encoding = \"utf-8\") as xmlFp:\n",
    "    doc = dict(xtd.parse(xmlFp.read()))\n",
    "    locNum = 0\n",
    "    print(\"有溫度資料的地區總共有: {0}個\".format(len(doc[\"cwbopendata\"][\"dataset\"][\"locations\"][\"location\"])))\n",
    "    locations = doc[\"cwbopendata\"][\"dataset\"][\"locations\"][\"location\"]\n",
    "    for loc in locations:\n",
    "        print(loc[\"locationName\"])"
   ]
  },
  {
   "cell_type": "code",
   "execution_count": 82,
   "metadata": {},
   "outputs": [
    {
     "name": "stdout",
     "output_type": "stream",
     "text": [
      "鹽埕區,2020-02-29T18:00:00+08:00,27\n",
      "鼓山區,2020-02-29T18:00:00+08:00,27\n",
      "左營區,2020-02-29T18:00:00+08:00,27\n",
      "楠梓區,2020-02-29T18:00:00+08:00,28\n",
      "三民區,2020-02-29T18:00:00+08:00,27\n",
      "新興區,2020-02-29T18:00:00+08:00,27\n",
      "前金區,2020-02-29T18:00:00+08:00,27\n",
      "苓雅區,2020-02-29T18:00:00+08:00,27\n",
      "前鎮區,2020-02-29T18:00:00+08:00,27\n",
      "旗津區,2020-02-29T18:00:00+08:00,27\n",
      "小港區,2020-02-29T18:00:00+08:00,27\n",
      "鳳山區,2020-02-29T18:00:00+08:00,27\n",
      "林園區,2020-02-29T18:00:00+08:00,27\n",
      "大寮區,2020-02-29T18:00:00+08:00,27\n",
      "大樹區,2020-02-29T18:00:00+08:00,28\n",
      "大社區,2020-02-29T18:00:00+08:00,28\n",
      "仁武區,2020-02-29T18:00:00+08:00,28\n",
      "鳥松區,2020-02-29T18:00:00+08:00,27\n",
      "岡山區,2020-02-29T18:00:00+08:00,27\n",
      "橋頭區,2020-02-29T18:00:00+08:00,28\n",
      "燕巢區,2020-02-29T18:00:00+08:00,27\n",
      "田寮區,2020-02-29T18:00:00+08:00,26\n",
      "阿蓮區,2020-02-29T18:00:00+08:00,26\n",
      "路竹區,2020-02-29T18:00:00+08:00,26\n",
      "湖內區,2020-02-29T18:00:00+08:00,26\n",
      "茄萣區,2020-02-29T18:00:00+08:00,25\n",
      "永安區,2020-02-29T18:00:00+08:00,26\n",
      "彌陀區,2020-02-29T18:00:00+08:00,26\n",
      "梓官區,2020-02-29T18:00:00+08:00,26\n",
      "旗山區,2020-02-29T18:00:00+08:00,26\n",
      "美濃區,2020-02-29T18:00:00+08:00,27\n",
      "六龜區,2020-02-29T18:00:00+08:00,24\n",
      "甲仙區,2020-02-29T18:00:00+08:00,24\n",
      "杉林區,2020-02-29T18:00:00+08:00,26\n",
      "內門區,2020-02-29T18:00:00+08:00,26\n",
      "茂林區,2020-02-29T18:00:00+08:00,24\n",
      "桃源區,2020-02-29T18:00:00+08:00,21\n",
      "那瑪夏區,2020-02-29T18:00:00+08:00,19\n"
     ]
    }
   ],
   "source": [
    "#請取出每一個地區所記錄的第一個時間點跟溫度\n",
    "with open(g_testXml, \"r\", encoding = \"utf-8\") as xmlFp:\n",
    "    doc = dict(xtd.parse(xmlFp.read()))\n",
    "    locations = doc[\"cwbopendata\"][\"dataset\"][\"locations\"][\"location\"]\n",
    "    for loc in locations:\n",
    "        print(loc[\"locationName\"] + \",\" + \n",
    "              loc[\"weatherElement\"][0][\"time\"][0][\"dataTime\"] + \",\" + \n",
    "              loc[\"weatherElement\"][0][\"time\"][0][\"elementValue\"][\"value\"])"
   ]
  },
  {
   "cell_type": "code",
   "execution_count": 111,
   "metadata": {},
   "outputs": [
    {
     "name": "stdout",
     "output_type": "stream",
     "text": [
      "2020-02-29T18:00:00+08:00,27\n",
      "2020-02-29T21:00:00+08:00,25\n",
      "2020-03-01T00:00:00+08:00,24\n",
      "2020-03-01T03:00:00+08:00,24\n",
      "2020-03-01T06:00:00+08:00,23\n",
      "2020-03-01T09:00:00+08:00,25\n",
      "2020-03-01T12:00:00+08:00,28\n",
      "2020-03-01T15:00:00+08:00,28\n",
      "2020-03-01T18:00:00+08:00,26\n",
      "2020-03-01T21:00:00+08:00,24\n",
      "2020-03-02T00:00:00+08:00,23\n",
      "2020-03-02T03:00:00+08:00,22\n",
      "2020-03-02T06:00:00+08:00,21\n",
      "2020-03-02T09:00:00+08:00,23\n",
      "2020-03-02T12:00:00+08:00,26\n",
      "2020-03-02T15:00:00+08:00,27\n",
      "2020-03-02T18:00:00+08:00,25\n",
      "2020-03-02T21:00:00+08:00,24\n",
      "2020-03-03T00:00:00+08:00,22\n",
      "2020-03-03T03:00:00+08:00,22\n",
      "2020-03-03T06:00:00+08:00,21\n",
      "2020-03-03T09:00:00+08:00,23\n",
      "2020-03-03T12:00:00+08:00,26\n",
      "2020-03-03T15:00:00+08:00,26\n"
     ]
    }
   ],
   "source": [
    "#請取出第一個地區所記錄的每一個時間點跟溫度\n",
    "with open(g_testXml, \"r\", encoding = \"utf-8\") as xmlFp:\n",
    "    doc = dict(xtd.parse(xmlFp.read()))\n",
    "    fstLocInfo = doc[\"cwbopendata\"][\"dataset\"][\"locations\"][\"location\"][0][\"weatherElement\"]\n",
    "    \n",
    "    for dt in fstLocInfo[0][\"time\"]:\n",
    "        print(dt[\"dataTime\"] + \",\" + dt[\"elementValue\"][\"value\"])"
   ]
  },
  {
   "cell_type": "code",
   "execution_count": null,
   "metadata": {},
   "outputs": [],
   "source": []
  }
 ],
 "metadata": {
  "kernelspec": {
   "display_name": "Python 3",
   "language": "python",
   "name": "python3"
  },
  "language_info": {
   "codemirror_mode": {
    "name": "ipython",
    "version": 3
   },
   "file_extension": ".py",
   "mimetype": "text/x-python",
   "name": "python",
   "nbconvert_exporter": "python",
   "pygments_lexer": "ipython3",
   "version": "3.7.4"
  }
 },
 "nbformat": 4,
 "nbformat_minor": 2
}
