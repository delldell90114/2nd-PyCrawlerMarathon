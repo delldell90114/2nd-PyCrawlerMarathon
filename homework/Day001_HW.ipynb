{
 "cells": [
  {
   "cell_type": "markdown",
   "metadata": {},
   "source": [
    "# 1.（簡答題）檔案、API、爬蟲三種取得資料方式有什麼不同？\n",
    "\n",
    "(1) 檔案: 可由各種不同格式存在, 如json, xml, csv等標準格式, 使用者可透過適用之標準格式來存取檔案; 檔案下載的常見方式, 可透過server-client的FTP傳輸協定, 或是第三方library連接傳輸\n",
    "-> 擁有者主動提供\n",
    "\n",
    "(2) API: 透過擁有者提供的API, 進行指定/特定資料的傳輸\n",
    "-> 擁有者主動提供\n",
    "\n",
    "(3) 爬蟲: 若網頁資料並無提供檔案或API形式, 可透過爬蟲程式抓回該網頁資料, 並由爬蟲者依照特定規則剖析內容以進行資料分析\n",
    "-> 非擁有者主動提供"
   ]
  },
  {
   "cell_type": "markdown",
   "metadata": {},
   "source": [
    "# 2.（實作）完成一個程式，需滿足下列需求：\n",
    "\n",
    "* 下載指定檔案到 Data 資料夾，存成檔名 Homework.txt\n",
    "* 檢查 Data 資料夾是否有 Homework.txt 檔名之檔案\n",
    "* 將「Hello World」字串覆寫到 Homework.txt 檔案\n",
    "* 檢查 Homework.txt 檔案字數是否符合 Hello World "
   ]
  },
  {
   "cell_type": "code",
   "execution_count": 147,
   "metadata": {},
   "outputs": [],
   "source": [
    "import os\n",
    "from urllib.request import urlretrieve"
   ]
  },
  {
   "cell_type": "code",
   "execution_count": 148,
   "metadata": {},
   "outputs": [],
   "source": [
    "try:\n",
    "    os.makedirs(\"./Data\", exist_ok=True)\n",
    "except:\n",
    "    print(\"Create folder failed!\")"
   ]
  },
  {
   "cell_type": "code",
   "execution_count": 149,
   "metadata": {},
   "outputs": [],
   "source": [
    "try:\n",
    "    dataSrc = \"https://www.w3.org/TR/PNG/iso_8859-1.txt\"\n",
    "    saveDest = \"./Data/Homework.txt\"\n",
    "\n",
    "    # Get online data by url\n",
    "    urlretrieve(dataSrc, saveDest)\n",
    "except:\n",
    "    print(\"Download file failed!\")"
   ]
  },
  {
   "cell_type": "code",
   "execution_count": 150,
   "metadata": {},
   "outputs": [
    {
     "name": "stdout",
     "output_type": "stream",
     "text": [
      "Find file:Homework.txt\n"
     ]
    }
   ],
   "source": [
    "files = os.listdir(\"./Data\")\n",
    "fileName = \"./Data/Homework.txt\"\n",
    "numOfFile = len(files)\n",
    "\n",
    "if numOfFile > 0:\n",
    "    if os.path.isfile(fileName):\n",
    "        print(\"Find file:{0}\".format(file))\n",
    "    else:\n",
    "        print(\"No Such file!\")\n",
    "else:\n",
    "    print(\"There has no file existed\")"
   ]
  },
  {
   "cell_type": "code",
   "execution_count": 151,
   "metadata": {},
   "outputs": [
    {
     "name": "stdout",
     "output_type": "stream",
     "text": [
      "Content:Hello World == 'Hello World'\n"
     ]
    }
   ],
   "source": [
    "with open(\"./Data/Homework.txt\", \"w+\", encoding=\"utf-8\") as fp:\n",
    "    fp.write(\"Hello World\")\n",
    "    fp.seek(0,0)\n",
    "    content=fp.read()\n",
    "    \n",
    "if len(content) == len(\"Hello World\") and content == \"Hello World\":\n",
    "    print(\"Content:{0} == 'Hello World'\".format(content))\n",
    "else:\n",
    "    print(\"Content:{0} != 'Hello Workd'\".format(content))\n",
    "    "
   ]
  },
  {
   "cell_type": "code",
   "execution_count": null,
   "metadata": {},
   "outputs": [],
   "source": []
  }
 ],
 "metadata": {
  "kernelspec": {
   "display_name": "Python 3",
   "language": "python",
   "name": "python3"
  },
  "language_info": {
   "codemirror_mode": {
    "name": "ipython",
    "version": 3
   },
   "file_extension": ".py",
   "mimetype": "text/x-python",
   "name": "python",
   "nbconvert_exporter": "python",
   "pygments_lexer": "ipython3",
   "version": "3.7.4"
  }
 },
 "nbformat": 4,
 "nbformat_minor": 2
}
