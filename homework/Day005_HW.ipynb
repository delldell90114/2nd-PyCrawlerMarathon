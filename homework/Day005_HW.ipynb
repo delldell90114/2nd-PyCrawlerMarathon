{
 "cells": [
  {
   "cell_type": "markdown",
   "metadata": {},
   "source": [
    "API 資料串接 - 以 Dcard API 實作範例\n",
    "了解 Dcard API 使用方式與回傳內容\n",
    "撰寫程式存取 API 且解析 JSON 格式資料\n",
    "作業目標\n",
    "請利用 API: https://www.dcard.tw/_api/forums/pet/posts?popular=true 回答下列問題：\n",
    "\n",
    "這個 API 一次會回傳幾筆資料？每一筆資料包含哪些欄位？\n",
    "\n",
    "取出每一筆資料的「標題」、「貼文時間」、「留言人數」、「按讚人數」\n",
    "計算熱門/非熱門文章的「平均留言人數」與「平均按讚人數」"
   ]
  },
  {
   "cell_type": "code",
   "execution_count": 53,
   "metadata": {},
   "outputs": [],
   "source": [
    "import requests\n",
    "import json\n",
    "\n",
    "dcardAPI = \"https://www.dcard.tw/_api/forums/job/posts?popular=true\"\n",
    "dcardAPIUnPopul = \"https://www.dcard.tw/_api/forums/job/posts?popular=false\"\n",
    "\n",
    "resp = requests.get(dcardAPI)\n",
    "jsnData = json.loads(resp.text)\n",
    "\n",
    "respUnPopul = requests.get(dcardAPIUnPopul)\n",
    "jsnDataUnPopul = json.loads(respUnPopul.text)"
   ]
  },
  {
   "cell_type": "markdown",
   "metadata": {},
   "source": [
    "##這個 API 一次會回傳幾筆資料？每一筆資料包含哪些欄位？"
   ]
  },
  {
   "cell_type": "code",
   "execution_count": 54,
   "metadata": {},
   "outputs": [
    {
     "name": "stdout",
     "output_type": "stream",
     "text": [
      "一次回傳:30筆資料\n",
      "整個json data物件型態: <class 'list'>\n",
      "單筆json data物件型態: <class 'dict'>\n",
      "單筆資料包含:35個欄位如下:\n",
      "id\n",
      "title\n",
      "excerpt\n",
      "anonymousSchool\n",
      "anonymousDepartment\n",
      "pinned\n",
      "forumId\n",
      "replyId\n",
      "createdAt\n",
      "updatedAt\n",
      "commentCount\n",
      "likeCount\n",
      "withNickname\n",
      "tags\n",
      "topics\n",
      "meta\n",
      "forumName\n",
      "forumAlias\n",
      "gender\n",
      "school\n",
      "department\n",
      "replyTitle\n",
      "mediaMeta\n",
      "reactions\n",
      "hidden\n",
      "customStyle\n",
      "isSuspiciousAccount\n",
      "layout\n",
      "pinnedType\n",
      "pinnedPriority\n",
      "withImages\n",
      "withVideos\n",
      "media\n",
      "reportReasonText\n",
      "postAvatar\n"
     ]
    }
   ],
   "source": [
    "print(\"一次回傳:{0}筆資料\".format(len(jsnData)))\n",
    "\n",
    "print(\"整個json data物件型態:\", type(jsnData))\n",
    "print(\"單筆json data物件型態:\", type(jsnData[0]))\n",
    "\n",
    "print(\"單筆資料包含:{0}個欄位如下:\".format(len(jsnData[0].keys())))\n",
    "for key in jsnData[0].keys():\n",
    "    print(key)"
   ]
  },
  {
   "cell_type": "markdown",
   "metadata": {},
   "source": [
    "##取出每一筆資料的「標題」、「貼文時間」、「留言人數」、「按讚人數」"
   ]
  },
  {
   "cell_type": "code",
   "execution_count": 55,
   "metadata": {},
   "outputs": [
    {
     "name": "stdout",
     "output_type": "stream",
     "text": [
      "1. <請先點我> 工作板＆實習、打工職缺刊登說明, 2017-01-01T06:27:39.650Z, 37, 679\n",
      "2. 職場菜鳥起飛囉！, 2020-02-29T08:57:16.320Z, 77, 60\n",
      "3. 勞保退休金的問題, 2020-02-29T05:15:43.588Z, 40, 56\n",
      "4. 能力決定天花板，但絕對不會低於30K, 2020-02-29T09:46:51.812Z, 17, 32\n",
      "5. Offer 選擇 (台積 美光 IT), 2020-02-29T05:54:58.912Z, 54, 17\n",
      "6. 到底漲工資對經濟有什麼助益？, 2020-02-29T06:29:29.873Z, 24, 14\n",
      "7. 行政助理為什麼一堆人應徵？, 2020-03-01T00:39:28.856Z, 29, 12\n",
      "8. 一點工作心得分享, 2020-02-29T16:31:39.104Z, 0, 10\n",
      "9. 面試心得分享, 2020-02-29T15:20:30.720Z, 15, 10\n",
      "10. 招募：行銷企劃助理, 2020-02-29T04:25:14.221Z, 7, 9\n",
      "11. 三民書局面試和一些公司近況, 2020-03-01T03:11:45.883Z, 5, 8\n",
      "12. 善待服務生, 2020-02-29T12:33:54.589Z, 2, 8\n",
      "13. 遊戲企劃起薪, 2020-02-29T05:05:47.796Z, 4, 8\n",
      "14. 工作選擇, 2020-02-29T01:43:10.635Z, 11, 8\n",
      "15. 學校出納 工作內容, 2020-02-29T05:18:57.144Z, 7, 7\n",
      "16. 文組新鮮人到大陸找工作容易嗎, 2020-02-29T12:18:07.251Z, 8, 6\n",
      "17. 剛滿25歲國民年金, 2020-02-29T04:23:36.660Z, 7, 6\n",
      "18. 工作選擇, 2020-02-28T23:20:13.690Z, 7, 6\n",
      "19. 別人怎樣的, 2020-03-01T07:22:37.318Z, 2, 5\n",
      "20. 論文沒寫完，已經在工作的人多嗎？, 2020-02-29T08:26:35.786Z, 5, 5\n",
      "21. 工作問題, 2020-02-29T06:32:51.772Z, 5, 5\n",
      "22. 離家工作, 2020-02-29T19:51:00.899Z, 7, 4\n",
      "23. 機械系工作, 2020-02-29T15:14:28.521Z, 5, 4\n",
      "24. 轉：找打工, 2020-02-29T01:28:05.637Z, 0, 4\n",
      "25. 現在找打工是不是很難找?, 2020-03-01T06:30:25.933Z, 8, 3\n",
      "26. 上海商業儲蓄銀行徵才, 2020-03-01T06:28:20.162Z, 3, 3\n",
      "27. 把同事當朋友？, 2020-02-29T23:18:00.160Z, 15, 3\n",
      "28. 該如何調適被奧客罵後的心情😩, 2020-02-29T17:05:14.725Z, 8, 3\n",
      "29. 到底該不該換工作, 2020-02-29T16:51:01.274Z, 8, 3\n",
      "30. 雷同事, 2020-02-29T11:58:44.284Z, 2, 3\n"
     ]
    }
   ],
   "source": [
    "jsnData\n",
    "no = 1\n",
    "for data in jsnData:\n",
    "    print(\"{0}. {1}, {2}, {3}, {4}\".format(no,\n",
    "                                           data[\"title\"],\n",
    "                                           data[\"createdAt\"],\n",
    "                                           data[\"commentCount\"], \n",
    "                                           data[\"likeCount\"]))\n",
    "    no += 1"
   ]
  },
  {
   "cell_type": "markdown",
   "metadata": {},
   "source": [
    "##計算熱門/非熱門文章的「平均留言人數」與「平均按讚人數」"
   ]
  },
  {
   "cell_type": "code",
   "execution_count": 56,
   "metadata": {},
   "outputs": [
    {
     "name": "stdout",
     "output_type": "stream",
     "text": [
      "熱門文章的平均留言人數為:13.966666666666667\n",
      "熱門文章的平均按讚人數為:33.36666666666667\n",
      "非熱門文章的平均留言人數為:4.2\n",
      "非熱門文章的平均按讚人數為:2.3333333333333335\n"
     ]
    }
   ],
   "source": [
    "totalCommentCount = 0\n",
    "totalLikeCount = 0\n",
    "\n",
    "for data in jsnData:\n",
    "    totalCommentCount += data[\"commentCount\"]\n",
    "    totalLikeCount += data[\"likeCount\"]\n",
    "    \n",
    "print(\"熱門文章的平均留言人數為:{0}\".format(totalCommentCount/len(jsnData))) \n",
    "print(\"熱門文章的平均按讚人數為:{0}\".format(totalLikeCount/len(jsnData))) \n",
    "   \n",
    "totalCommentCount = 0\n",
    "totalLikeCount = 0\n",
    "\n",
    "for data in jsnDataUnPopul:\n",
    "    totalCommentCount += data[\"commentCount\"]\n",
    "    totalLikeCount += data[\"likeCount\"]\n",
    "    \n",
    "print(\"非熱門文章的平均留言人數為:{0}\".format(totalCommentCount/len(jsnData))) \n",
    "print(\"非熱門文章的平均按讚人數為:{0}\".format(totalLikeCount/len(jsnData))) \n",
    "    "
   ]
  },
  {
   "cell_type": "code",
   "execution_count": null,
   "metadata": {},
   "outputs": [],
   "source": []
  }
 ],
 "metadata": {
  "kernelspec": {
   "display_name": "Python 3",
   "language": "python",
   "name": "python3"
  },
  "language_info": {
   "codemirror_mode": {
    "name": "ipython",
    "version": 3
   },
   "file_extension": ".py",
   "mimetype": "text/x-python",
   "name": "python",
   "nbconvert_exporter": "python",
   "pygments_lexer": "ipython3",
   "version": "3.7.4"
  }
 },
 "nbformat": 4,
 "nbformat_minor": 2
}
