{
 "cells": [
  {
   "cell_type": "markdown",
   "metadata": {},
   "source": [
    "##API 資料串接 - 以 知乎 API 實作範例\n",
    "###了解知乎 API 使用方式與回傳內容\n",
    "###撰寫程式存取 API 且添加標頭\n",
    "##作業目標\n",
    "###根據範例提供的 API ，完成以下問題：\n",
    "\n",
    "###取出知乎問題發問時間\n",
    "###取出第一筆與最後一筆回答的時間\n",
    "##1. 取出知乎問題發問時間"
   ]
  },
  {
   "cell_type": "code",
   "execution_count": 60,
   "metadata": {},
   "outputs": [
    {
     "name": "stdout",
     "output_type": "stream",
     "text": [
      "<class 'dict'>\n",
      "<class 'list'>\n",
      "{'type': 'question', 'id': 55493026, 'title': '你们都是怎么学 Python 的？', 'question_type': 'normal', 'created': 1486390229, 'updated_time': 1582533957, 'url': 'https://www.zhihu.com/api/v4/questions/55493026', 'relationship': {}}\n",
      "{'type': 'question', 'id': 55493026, 'title': '你们都是怎么学 Python 的？', 'question_type': 'normal', 'created': 1486390229, 'updated_time': 1582533957, 'url': 'https://www.zhihu.com/api/v4/questions/55493026', 'relationship': {}}\n",
      "{'type': 'question', 'id': 55493026, 'title': '你们都是怎么学 Python 的？', 'question_type': 'normal', 'created': 1486390229, 'updated_time': 1582533957, 'url': 'https://www.zhihu.com/api/v4/questions/55493026', 'relationship': {}}\n",
      "{'type': 'question', 'id': 55493026, 'title': '你们都是怎么学 Python 的？', 'question_type': 'normal', 'created': 1486390229, 'updated_time': 1582533957, 'url': 'https://www.zhihu.com/api/v4/questions/55493026', 'relationship': {}}\n",
      "{'type': 'question', 'id': 55493026, 'title': '你们都是怎么学 Python 的？', 'question_type': 'normal', 'created': 1486390229, 'updated_time': 1582533957, 'url': 'https://www.zhihu.com/api/v4/questions/55493026', 'relationship': {}}\n",
      "\n",
      "問題發問時間：2017-02-06 22:10:29\n"
     ]
    }
   ],
   "source": [
    "# 1. 取出知乎問題發問時間\n",
    "import requests\n",
    "import json\n",
    "from datetime import datetime\n",
    "\n",
    "reqHeader = {\"user-agent\": \"Mozilla/5.0\"}\n",
    "ZhihuAPI = \"https://www.zhihu.com/api/v4/questions/55493026/answers\"\n",
    "resp = requests.get(ZhihuAPI, headers = reqHeader)\n",
    "data = json.loads(resp.text)\n",
    "\n",
    "print(type(data))\n",
    "print(type(data[\"data\"]))\n",
    "\n",
    "for question in data[\"data\"]:\n",
    "    print(question[\"question\"])\n",
    "    \n",
    "createTime = datetime.fromtimestamp(data[\"data\"][0][\"question\"][\"created\"])\n",
    "print()\n",
    "print(\"問題發問時間：{0}\".format(createTime))"
   ]
  },
  {
   "cell_type": "markdown",
   "metadata": {},
   "source": [
    "##2. 取出第一筆與最後一筆回答的時間"
   ]
  },
  {
   "cell_type": "code",
   "execution_count": 61,
   "metadata": {},
   "outputs": [
    {
     "name": "stdout",
     "output_type": "stream",
     "text": [
      "第一筆回答的時間：2019-05-14 17:00:12\n",
      "最後一筆回答時間：2020-01-16 09:33:08\n"
     ]
    }
   ],
   "source": [
    "#2. 取出第一筆與最後一筆回答的時間\n",
    "\n",
    "lstUpdateTime = []\n",
    "for question in data[\"data\"]:\n",
    "    lstUpdateTime.append(question[\"updated_time\"])\n",
    "\n",
    "lstUpdateTime.sort()\n",
    "print(\"第一筆回答的時間：{0}\".format(datetime.fromtimestamp(lstUpdateTime[0])))\n",
    "print(\"最後一筆回答時間：{0}\".format(datetime.fromtimestamp(lstUpdateTime[-1])))\n",
    "\n"
   ]
  },
  {
   "cell_type": "code",
   "execution_count": null,
   "metadata": {},
   "outputs": [],
   "source": []
  }
 ],
 "metadata": {
  "kernelspec": {
   "display_name": "Python 3",
   "language": "python",
   "name": "python3"
  },
  "language_info": {
   "codemirror_mode": {
    "name": "ipython",
    "version": 3
   },
   "file_extension": ".py",
   "mimetype": "text/x-python",
   "name": "python",
   "nbconvert_exporter": "python",
   "pygments_lexer": "ipython3",
   "version": "3.7.4"
  }
 },
 "nbformat": 4,
 "nbformat_minor": 2
}
